{
  "cells": [
    {
      "cell_type": "markdown",
      "metadata": {
        "id": "view-in-github",
        "colab_type": "text"
      },
      "source": [
        "<a href=\"https://colab.research.google.com/github/RifkiGhifari/Kelompok_Lion_King_Pengetahuan_Islam/blob/main/Pengetahuan_Islam.ipynb\" target=\"_parent\"><img src=\"https://colab.research.google.com/assets/colab-badge.svg\" alt=\"Open In Colab\"/></a>"
      ]
    },
    {
      "cell_type": "markdown",
      "source": [
        " Instalasi Library dan Impor Modul"
      ],
      "metadata": {
        "id": "2ukXZQyfJhhw"
      }
    },
    {
      "cell_type": "code",
      "source": [
        "!pip install -q pymupdf\n",
        "!pip install -q sentence-transformers\n",
        "!pip install -q bert-score\n",
        "!pip install -q transformers torch\n",
        "\n",
        "\n",
        "import fitz  # PyMuPDF untuk mengekstrak teks dari PDF\n",
        "from sentence_transformers import SentenceTransformer  # Untuk menggunakan model Sentence Transformers\n",
        "from sklearn.metrics.pairwise import cosine_similarity  # Untuk menghitung cosine similarity\n",
        "import numpy as np\n",
        "from transformers import pipeline  # Untuk menggunakan Hugging Face pipeline\n",
        "from bert_score import score  # Untuk menghitung BERTScore\n",
        "import matplotlib.pyplot as plt  # Untuk plotting hasil BERTScore\n"
      ],
      "metadata": {
        "id": "iRzd0H1eJcaM"
      },
      "execution_count": 2,
      "outputs": []
    },
    {
      "cell_type": "markdown",
      "source": [
        "Fungsi Ekstraksi Teks dari PDF"
      ],
      "metadata": {
        "id": "poj3mqNQJm7j"
      }
    },
    {
      "cell_type": "code",
      "source": [
        "# Fungsi untuk mengekstrak teks dari PDF\n",
        "def extract_text_from_pdf(pdf_path):\n",
        "    doc = fitz.open(pdf_path)\n",
        "    text = \"\"\n",
        "    for page_num in range(len(doc)):\n",
        "        page = doc.load_page(page_num)\n",
        "        text += page.get_text()\n",
        "    return text\n"
      ],
      "metadata": {
        "id": "dJaTjjg4JqIJ"
      },
      "execution_count": 11,
      "outputs": []
    },
    {
      "cell_type": "markdown",
      "source": [
        "Mengunggah dan Mengekstrak Teks dari PDF"
      ],
      "metadata": {
        "id": "V3TJYSYzJvLw"
      }
    },
    {
      "cell_type": "code",
      "source": [
        "# Mengunggah file PDF (gunakan metode yang sesuai jika di Colab)\n",
        "from google.colab import files\n",
        "uploaded = files.upload()\n",
        "pdf_path = list(uploaded.keys())[0]\n",
        "\n",
        "# Mengekstrak teks dari PDF\n",
        "text = extract_text_from_pdf(pdf_path)\n",
        "\n",
        "# Membagi teks menjadi halaman untuk dimasukkan ke FAISS\n",
        "pages = [{\"page_content\": page} for page in text.split(\"\\n\\n\")]\n",
        "\n"
      ],
      "metadata": {
        "id": "khRKktheJyI2",
        "outputId": "4bef758d-7eed-421a-8458-107c72ff57a1",
        "colab": {
          "base_uri": "https://localhost:8080/",
          "height": 73
        }
      },
      "execution_count": 12,
      "outputs": [
        {
          "output_type": "display_data",
          "data": {
            "text/plain": [
              "<IPython.core.display.HTML object>"
            ],
            "text/html": [
              "\n",
              "     <input type=\"file\" id=\"files-730fe370-63f7-4538-a5ff-886e89871ecf\" name=\"files[]\" multiple disabled\n",
              "        style=\"border:none\" />\n",
              "     <output id=\"result-730fe370-63f7-4538-a5ff-886e89871ecf\">\n",
              "      Upload widget is only available when the cell has been executed in the\n",
              "      current browser session. Please rerun this cell to enable.\n",
              "      </output>\n",
              "      <script>// Copyright 2017 Google LLC\n",
              "//\n",
              "// Licensed under the Apache License, Version 2.0 (the \"License\");\n",
              "// you may not use this file except in compliance with the License.\n",
              "// You may obtain a copy of the License at\n",
              "//\n",
              "//      http://www.apache.org/licenses/LICENSE-2.0\n",
              "//\n",
              "// Unless required by applicable law or agreed to in writing, software\n",
              "// distributed under the License is distributed on an \"AS IS\" BASIS,\n",
              "// WITHOUT WARRANTIES OR CONDITIONS OF ANY KIND, either express or implied.\n",
              "// See the License for the specific language governing permissions and\n",
              "// limitations under the License.\n",
              "\n",
              "/**\n",
              " * @fileoverview Helpers for google.colab Python module.\n",
              " */\n",
              "(function(scope) {\n",
              "function span(text, styleAttributes = {}) {\n",
              "  const element = document.createElement('span');\n",
              "  element.textContent = text;\n",
              "  for (const key of Object.keys(styleAttributes)) {\n",
              "    element.style[key] = styleAttributes[key];\n",
              "  }\n",
              "  return element;\n",
              "}\n",
              "\n",
              "// Max number of bytes which will be uploaded at a time.\n",
              "const MAX_PAYLOAD_SIZE = 100 * 1024;\n",
              "\n",
              "function _uploadFiles(inputId, outputId) {\n",
              "  const steps = uploadFilesStep(inputId, outputId);\n",
              "  const outputElement = document.getElementById(outputId);\n",
              "  // Cache steps on the outputElement to make it available for the next call\n",
              "  // to uploadFilesContinue from Python.\n",
              "  outputElement.steps = steps;\n",
              "\n",
              "  return _uploadFilesContinue(outputId);\n",
              "}\n",
              "\n",
              "// This is roughly an async generator (not supported in the browser yet),\n",
              "// where there are multiple asynchronous steps and the Python side is going\n",
              "// to poll for completion of each step.\n",
              "// This uses a Promise to block the python side on completion of each step,\n",
              "// then passes the result of the previous step as the input to the next step.\n",
              "function _uploadFilesContinue(outputId) {\n",
              "  const outputElement = document.getElementById(outputId);\n",
              "  const steps = outputElement.steps;\n",
              "\n",
              "  const next = steps.next(outputElement.lastPromiseValue);\n",
              "  return Promise.resolve(next.value.promise).then((value) => {\n",
              "    // Cache the last promise value to make it available to the next\n",
              "    // step of the generator.\n",
              "    outputElement.lastPromiseValue = value;\n",
              "    return next.value.response;\n",
              "  });\n",
              "}\n",
              "\n",
              "/**\n",
              " * Generator function which is called between each async step of the upload\n",
              " * process.\n",
              " * @param {string} inputId Element ID of the input file picker element.\n",
              " * @param {string} outputId Element ID of the output display.\n",
              " * @return {!Iterable<!Object>} Iterable of next steps.\n",
              " */\n",
              "function* uploadFilesStep(inputId, outputId) {\n",
              "  const inputElement = document.getElementById(inputId);\n",
              "  inputElement.disabled = false;\n",
              "\n",
              "  const outputElement = document.getElementById(outputId);\n",
              "  outputElement.innerHTML = '';\n",
              "\n",
              "  const pickedPromise = new Promise((resolve) => {\n",
              "    inputElement.addEventListener('change', (e) => {\n",
              "      resolve(e.target.files);\n",
              "    });\n",
              "  });\n",
              "\n",
              "  const cancel = document.createElement('button');\n",
              "  inputElement.parentElement.appendChild(cancel);\n",
              "  cancel.textContent = 'Cancel upload';\n",
              "  const cancelPromise = new Promise((resolve) => {\n",
              "    cancel.onclick = () => {\n",
              "      resolve(null);\n",
              "    };\n",
              "  });\n",
              "\n",
              "  // Wait for the user to pick the files.\n",
              "  const files = yield {\n",
              "    promise: Promise.race([pickedPromise, cancelPromise]),\n",
              "    response: {\n",
              "      action: 'starting',\n",
              "    }\n",
              "  };\n",
              "\n",
              "  cancel.remove();\n",
              "\n",
              "  // Disable the input element since further picks are not allowed.\n",
              "  inputElement.disabled = true;\n",
              "\n",
              "  if (!files) {\n",
              "    return {\n",
              "      response: {\n",
              "        action: 'complete',\n",
              "      }\n",
              "    };\n",
              "  }\n",
              "\n",
              "  for (const file of files) {\n",
              "    const li = document.createElement('li');\n",
              "    li.append(span(file.name, {fontWeight: 'bold'}));\n",
              "    li.append(span(\n",
              "        `(${file.type || 'n/a'}) - ${file.size} bytes, ` +\n",
              "        `last modified: ${\n",
              "            file.lastModifiedDate ? file.lastModifiedDate.toLocaleDateString() :\n",
              "                                    'n/a'} - `));\n",
              "    const percent = span('0% done');\n",
              "    li.appendChild(percent);\n",
              "\n",
              "    outputElement.appendChild(li);\n",
              "\n",
              "    const fileDataPromise = new Promise((resolve) => {\n",
              "      const reader = new FileReader();\n",
              "      reader.onload = (e) => {\n",
              "        resolve(e.target.result);\n",
              "      };\n",
              "      reader.readAsArrayBuffer(file);\n",
              "    });\n",
              "    // Wait for the data to be ready.\n",
              "    let fileData = yield {\n",
              "      promise: fileDataPromise,\n",
              "      response: {\n",
              "        action: 'continue',\n",
              "      }\n",
              "    };\n",
              "\n",
              "    // Use a chunked sending to avoid message size limits. See b/62115660.\n",
              "    let position = 0;\n",
              "    do {\n",
              "      const length = Math.min(fileData.byteLength - position, MAX_PAYLOAD_SIZE);\n",
              "      const chunk = new Uint8Array(fileData, position, length);\n",
              "      position += length;\n",
              "\n",
              "      const base64 = btoa(String.fromCharCode.apply(null, chunk));\n",
              "      yield {\n",
              "        response: {\n",
              "          action: 'append',\n",
              "          file: file.name,\n",
              "          data: base64,\n",
              "        },\n",
              "      };\n",
              "\n",
              "      let percentDone = fileData.byteLength === 0 ?\n",
              "          100 :\n",
              "          Math.round((position / fileData.byteLength) * 100);\n",
              "      percent.textContent = `${percentDone}% done`;\n",
              "\n",
              "    } while (position < fileData.byteLength);\n",
              "  }\n",
              "\n",
              "  // All done.\n",
              "  yield {\n",
              "    response: {\n",
              "      action: 'complete',\n",
              "    }\n",
              "  };\n",
              "}\n",
              "\n",
              "scope.google = scope.google || {};\n",
              "scope.google.colab = scope.google.colab || {};\n",
              "scope.google.colab._files = {\n",
              "  _uploadFiles,\n",
              "  _uploadFilesContinue,\n",
              "};\n",
              "})(self);\n",
              "</script> "
            ]
          },
          "metadata": {}
        },
        {
          "output_type": "stream",
          "name": "stdout",
          "text": [
            "Saving baru.pdf to baru.pdf\n"
          ]
        }
      ]
    },
    {
      "cell_type": "markdown",
      "source": [
        "Inisialisasi dan Pengkodean Model Sentence Transformers"
      ],
      "metadata": {
        "id": "3Kj5hcrTJ3Vn"
      }
    },
    {
      "cell_type": "code",
      "source": [
        "# Menginisialisasi model sentence-transformers\n",
        "model = SentenceTransformer('sentence-transformers/all-MiniLM-L6-v2')\n",
        "\n",
        "# Mendapatkan embeddings untuk setiap halaman\n",
        "embeddings = model.encode([page['page_content'] for page in pages])\n"
      ],
      "metadata": {
        "id": "wy4x8hNAJ_MT"
      },
      "execution_count": 13,
      "outputs": []
    },
    {
      "cell_type": "markdown",
      "source": [
        "Fungsi Pencarian Kesamaan"
      ],
      "metadata": {
        "id": "xWa0u8IQKAJ0"
      }
    },
    {
      "cell_type": "code",
      "source": [
        "# Fungsi untuk melakukan pencarian kesamaan\n",
        "def similarity_search(query, embeddings, pages, model, top_k=5):\n",
        "    query_embedding = model.encode([query])\n",
        "    similarities = cosine_similarity(query_embedding, embeddings)\n",
        "    top_k_indices = np.argsort(similarities[0])[-top_k:][::-1]\n",
        "    return [pages[i] for i in top_k_indices]\n"
      ],
      "metadata": {
        "id": "SdapT_jIKFox"
      },
      "execution_count": 54,
      "outputs": []
    },
    {
      "cell_type": "markdown",
      "source": [
        "Meminta dan Memproses Pertanyaan Pengguna"
      ],
      "metadata": {
        "id": "MXF1hATiKM_U"
      }
    },
    {
      "cell_type": "code",
      "source": [
        "# Meminta pengguna untuk memasukkan pertanyaan\n",
        "query = input(\"Masukkan pertanyaan Anda: \")\n",
        "\n",
        "# Melakukan pencarian kesamaan\n",
        "docs = similarity_search(query, embeddings, pages, model)\n",
        "\n",
        "# Menggabungkan konten yang relevan\n",
        "content = \"\\n\".join([x[\"page_content\"] for x in docs])\n"
      ],
      "metadata": {
        "id": "pH98MXGSKQlj",
        "outputId": "3da68d3b-3e34-4426-b477-9b46b26a22f3",
        "colab": {
          "base_uri": "https://localhost:8080/"
        }
      },
      "execution_count": 98,
      "outputs": [
        {
          "name": "stdout",
          "output_type": "stream",
          "text": [
            "Masukkan pertanyaan Anda: Apa itu puasa dalam Islam? \n"
          ]
        }
      ]
    },
    {
      "cell_type": "markdown",
      "source": [
        "Menginisialisasi dan Memilih Model QA dari Hugging Face"
      ],
      "metadata": {
        "id": "UV25JeS_KSeC"
      }
    },
    {
      "cell_type": "code",
      "source": [
        "# Menggunakan pipeline QA Hugging Face dengan penanganan kesalahan\n",
        "try:\n",
        "    qa_model = pipeline(\"question-answering\", model=\"indobenchmark/indobert-lite-large-p2\", tokenizer=\"indobenchmark/indobert-lite-large-p2\")\n",
        "except Exception as e:\n",
        "    print(f\"Error dengan model indobenchmark: {e}\")\n",
        "    print(\"Menggunakan model alternatif xlm-roberta-base\")\n",
        "    qa_model = pipeline(\"question-answering\", model=\"xlm-roberta-base\", tokenizer=\"xlm-roberta-base\")\n"
      ],
      "metadata": {
        "id": "S3ZOwAGHKWeB",
        "outputId": "570bc311-c681-4604-9df7-a3085a146702",
        "colab": {
          "base_uri": "https://localhost:8080/"
        }
      },
      "execution_count": 120,
      "outputs": [
        {
          "output_type": "stream",
          "name": "stderr",
          "text": [
            "Some weights of AlbertForQuestionAnswering were not initialized from the model checkpoint at indobenchmark/indobert-lite-large-p2 and are newly initialized: ['qa_outputs.bias', 'qa_outputs.weight']\n",
            "You should probably TRAIN this model on a down-stream task to be able to use it for predictions and inference.\n"
          ]
        },
        {
          "output_type": "stream",
          "name": "stdout",
          "text": [
            "Error dengan model indobenchmark: not a string\n",
            "Menggunakan model alternatif xlm-roberta-base\n"
          ]
        },
        {
          "output_type": "stream",
          "name": "stderr",
          "text": [
            "Some weights of XLMRobertaForQuestionAnswering were not initialized from the model checkpoint at xlm-roberta-base and are newly initialized: ['qa_outputs.bias', 'qa_outputs.weight']\n",
            "You should probably TRAIN this model on a down-stream task to be able to use it for predictions and inference.\n"
          ]
        }
      ]
    },
    {
      "cell_type": "markdown",
      "source": [
        "Melakukan Inferensi dan Menampilkan Jawaban yang Dihasilkan"
      ],
      "metadata": {
        "id": "trY9gkiaKYWG"
      }
    },
    {
      "cell_type": "code",
      "source": [
        "# Melakukan inferensi\n",
        "qa_input = {\"question\": query, \"context\": content}\n",
        "result = qa_model(qa_input)\n",
        "generated_answer = result['answer']\n",
        "\n",
        "# Menampilkan jawaban yang dihasilkan\n",
        "print(\"Jawaban yang dihasilkan:\", generated_answer)\n"
      ],
      "metadata": {
        "id": "bJaV5zOeKd3i",
        "outputId": "742a420b-5dd9-4776-b565-e3aa6a683a70",
        "colab": {
          "base_uri": "https://localhost:8080/"
        }
      },
      "execution_count": 121,
      "outputs": [
        {
          "output_type": "stream",
          "name": "stdout",
          "text": [
            "Jawaban yang dihasilkan: terbenam matahari selama bulan Ramadan. Puasa adalah salah satu \n",
            "dari rukun\n"
          ]
        }
      ]
    },
    {
      "cell_type": "markdown",
      "source": [
        "Evaluasi Menggunakan BERTScore"
      ],
      "metadata": {
        "id": "NAxQ_4ChUaAs"
      }
    },
    {
      "cell_type": "code",
      "source": [
        "# Jawaban referensi (ganti ini dengan jawaban yang benar untuk evaluasi)\n",
        "reference_answer = \"Puasa dalam Islam adalah menahan diri dari makan, minum, dan hubungan suami istri dari terbit fajar hingga terbenam matahari selama bulan Ramadan. Puasa adalah salah satu dari rukun Islam yang wajib dilaksanakan\"\n",
        "\n",
        "if reference_answer:\n",
        "    # Menghitung BERTScore\n",
        "    P, R, F1 = score([generated_answer], [reference_answer], lang=\"id\")\n",
        "\n",
        "    # Menyederhanakan output menjadi dua tempat desimal\n",
        "    P_mean = P.mean().item()\n",
        "    R_mean = R.mean().item()\n",
        "    F1_mean = F1.mean().item()\n",
        "\n",
        "    print(f\"BERTScore Precision: {P_mean:.2f}\")\n",
        "    print(f\"BERTScore Recall: {R_mean:.2f}\")\n",
        "    print(f\"BERTScore F1: {F1_mean:.2f}\")\n",
        "\n",
        "    # Plot hasil BERTScore\n",
        "    scores = [P_mean, R_mean, F1_mean]\n",
        "    labels = ['Precision', 'Recall', 'F1']\n",
        "\n",
        "    plt.figure(figsize=(8, 5))\n",
        "    plt.bar(labels, scores, color=['blue', 'green', 'red'])\n",
        "    plt.ylim(0, 1)\n",
        "    plt.xlabel('Metrics')\n",
        "    plt.ylabel('Scores')\n",
        "    plt.title('BERTScore Evaluation')\n",
        "    plt.show()\n",
        "else:\n",
        "    print(\"Tidak ada jawaban referensi yang dimasukkan. Evaluasi BERTScore tidak dilakukan.\")\n"
      ],
      "metadata": {
        "id": "D9XHaXGaKjnS",
        "outputId": "7533e6c4-d8be-49a1-ba09-a623215926fc",
        "colab": {
          "base_uri": "https://localhost:8080/",
          "height": 542
        }
      },
      "execution_count": 122,
      "outputs": [
        {
          "output_type": "stream",
          "name": "stdout",
          "text": [
            "BERTScore Precision: 0.89\n",
            "BERTScore Recall: 0.75\n",
            "BERTScore F1: 0.82\n"
          ]
        },
        {
          "output_type": "display_data",
          "data": {
            "text/plain": [
              "<Figure size 800x500 with 1 Axes>"
            ],
            "image/png": "[encoded data removed]"
          },
          "metadata": {}
        }
      ]
    }
  ],
  "metadata": {
    "colab": {
      "provenance": [],
      "include_colab_link": true
    },
    "kernelspec": {
      "display_name": "Python 3",
      "name": "python3"
    },
    "language_info": {
      "name": "python"
    }
  },
  "nbformat": 4,
  "nbformat_minor": 0
}